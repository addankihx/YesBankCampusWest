{
 "cells": [
  {
   "cell_type": "code",
   "execution_count": 5,
   "metadata": {},
   "outputs": [],
   "source": [
    "import pandas as pd\n",
    "import urllib, json\n",
    "import json\n",
    "import time"
   ]
  },
  {
   "cell_type": "code",
   "execution_count": 2,
   "metadata": {},
   "outputs": [
    {
     "data": {
      "text/html": [
       "<div>\n",
       "<style scoped>\n",
       "    .dataframe tbody tr th:only-of-type {\n",
       "        vertical-align: middle;\n",
       "    }\n",
       "\n",
       "    .dataframe tbody tr th {\n",
       "        vertical-align: top;\n",
       "    }\n",
       "\n",
       "    .dataframe thead th {\n",
       "        text-align: right;\n",
       "    }\n",
       "</style>\n",
       "<table border=\"1\" class=\"dataframe\">\n",
       "  <thead>\n",
       "    <tr style=\"text-align: right;\">\n",
       "      <th></th>\n",
       "      <th>cust_id_token</th>\n",
       "      <th>current_address</th>\n",
       "      <th>current_city</th>\n",
       "      <th>current_state</th>\n",
       "      <th>current_pin_code</th>\n",
       "      <th>permanent_address</th>\n",
       "      <th>permanent_city</th>\n",
       "      <th>permanent_state</th>\n",
       "      <th>permanent_pin_code</th>\n",
       "    </tr>\n",
       "  </thead>\n",
       "  <tbody>\n",
       "    <tr>\n",
       "      <th>0</th>\n",
       "      <td>1</td>\n",
       "      <td>NaN</td>\n",
       "      <td>JAMBI</td>\n",
       "      <td>INDONESIA</td>\n",
       "      <td>36126</td>\n",
       "      <td>NaN</td>\n",
       "      <td>CHENNAI</td>\n",
       "      <td>TAMIL NADU</td>\n",
       "      <td>600029</td>\n",
       "    </tr>\n",
       "    <tr>\n",
       "      <th>1</th>\n",
       "      <td>2</td>\n",
       "      <td>INJAMBAKKAM</td>\n",
       "      <td>CHENNAI</td>\n",
       "      <td>TAMIL NADU</td>\n",
       "      <td>600115</td>\n",
       "      <td>NaN</td>\n",
       "      <td>LONDON</td>\n",
       "      <td>MIDDLE SEX</td>\n",
       "      <td>HA047H</td>\n",
       "    </tr>\n",
       "    <tr>\n",
       "      <th>2</th>\n",
       "      <td>3</td>\n",
       "      <td>ROODEPOORT</td>\n",
       "      <td>JOHANNESBURG</td>\n",
       "      <td>GAUTENG</td>\n",
       "      <td>2169</td>\n",
       "      <td>MANDIR RMC GARDEN</td>\n",
       "      <td>PUNE</td>\n",
       "      <td>MAHARASHTRA</td>\n",
       "      <td>412207</td>\n",
       "    </tr>\n",
       "    <tr>\n",
       "      <th>3</th>\n",
       "      <td>4</td>\n",
       "      <td>NaN</td>\n",
       "      <td>DUBAI</td>\n",
       "      <td>DUBAI</td>\n",
       "      <td>18582</td>\n",
       "      <td>NaN</td>\n",
       "      <td>BARODA</td>\n",
       "      <td>GUJARAT</td>\n",
       "      <td>390007</td>\n",
       "    </tr>\n",
       "    <tr>\n",
       "      <th>4</th>\n",
       "      <td>5</td>\n",
       "      <td>NaN</td>\n",
       "      <td>SIRSA</td>\n",
       "      <td>HARYANA</td>\n",
       "      <td>125055</td>\n",
       "      <td>NaN</td>\n",
       "      <td>SIRSA</td>\n",
       "      <td>HARYANA</td>\n",
       "      <td>125055</td>\n",
       "    </tr>\n",
       "  </tbody>\n",
       "</table>\n",
       "</div>"
      ],
      "text/plain": [
       "   cust_id_token current_address  current_city current_state current_pin_code  \\\n",
       "0              1             NaN         JAMBI     INDONESIA            36126   \n",
       "1              2     INJAMBAKKAM       CHENNAI    TAMIL NADU           600115   \n",
       "2              3      ROODEPOORT  JOHANNESBURG       GAUTENG             2169   \n",
       "3              4             NaN         DUBAI         DUBAI            18582   \n",
       "4              5             NaN         SIRSA       HARYANA           125055   \n",
       "\n",
       "   permanent_address permanent_city permanent_state permanent_pin_code  \n",
       "0                NaN        CHENNAI      TAMIL NADU             600029  \n",
       "1                NaN         LONDON      MIDDLE SEX             HA047H  \n",
       "2  MANDIR RMC GARDEN           PUNE     MAHARASHTRA             412207  \n",
       "3                NaN         BARODA         GUJARAT             390007  \n",
       "4                NaN          SIRSA         HARYANA             125055  "
      ]
     },
     "execution_count": 2,
     "metadata": {},
     "output_type": "execute_result"
    }
   ],
   "source": [
    "df = pd.read_csv(\"./final_pre.csv\")\n",
    "df.head()"
   ]
  },
  {
   "cell_type": "code",
   "execution_count": 7,
   "metadata": {},
   "outputs": [],
   "source": [
    "#for current address\n",
    "for j in range(5,100):\n",
    "    st = \"\"\n",
    "    for i in range(1,4):    \n",
    "        st += str(df.iloc[j,i])  \n",
    "        if str(df.iloc[j,i]) != \"NaN\" and str(df.iloc[j,i]) != \"nan\":\n",
    "            st += \",+\"\n",
    "        st = st.replace(\"nan\", \"\")\n",
    "        st = st.replace(\"NaN\", \"\")\n",
    "    st+=df.iloc[j,4]\n",
    "    st = st.replace(\" \", \"+\")\n",
    "    url = \"https://maps.googleapis.com/maps/api/geocode/json?address=\"+str(st)+\"&key=YOUR_API_HERE\"\n",
    "    response = urllib.request.Request(url)\n",
    "    opener = urllib.request.build_opener()\n",
    "    f = opener.open(response)\n",
    "    json1 = json.loads(f.read())\n",
    "    with open(\"./JSON_CURRENT/\"+str(j+1)+\".json\", 'w') as fp:\n",
    "        json.dump(json1, fp)\n",
    "    time.sleep(0.5)"
   ]
  },
  {
   "cell_type": "code",
   "execution_count": 9,
   "metadata": {},
   "outputs": [],
   "source": [
    "#for permanent address\n",
    "for j in range(15,100):\n",
    "    st = \"\"\n",
    "    for i in range(5,8):    \n",
    "        st += str(df.iloc[j,i])  \n",
    "        if str(df.iloc[j,i]) != \"NaN\" and str(df.iloc[j,i]) != \"nan\":\n",
    "            st += \",+\"\n",
    "        st = st.replace(\"nan\", \"\")\n",
    "        st = st.replace(\"NaN\", \"\")\n",
    "    st+=str(df.iloc[j,8])\n",
    "    st = st.replace(\" \", \"+\")\n",
    "    url = \"https://maps.googleapis.com/maps/api/geocode/json?address=\"+str(st)+\"&key=YOUR_API_KEY\"\n",
    "    response = urllib.request.Request(url)\n",
    "    opener = urllib.request.build_opener()\n",
    "    f = opener.open(response)\n",
    "    json1 = json.loads(f.read())\n",
    "    with open(\"./JSON_PERMANENT/\"+str(j+1)+\".json\", 'w') as fp:\n",
    "        json.dump(json1, fp)\n",
    "    time.sleep(0.5)"
   ]
  },
  {
   "cell_type": "code",
   "execution_count": 82,
   "metadata": {},
   "outputs": [],
   "source": [
    "st = \"\"\n",
    "for i in range(1,4):    \n",
    "    st += str(df.iloc[5,i])  \n",
    "    if str(df.iloc[5,i]) != \"NaN\" and str(df.iloc[5,i]) != \"nan\":\n",
    "        st += \",+\"\n",
    "    st = st.replace(\"nan\", \"\")\n",
    "    st = st.replace(\"NaN\", \"\")\n",
    "st+=df.iloc[5,4]\n",
    "st = st.replace(\" \", \"+\")\n"
   ]
  },
  {
   "cell_type": "code",
   "execution_count": 83,
   "metadata": {},
   "outputs": [
    {
     "data": {
      "text/plain": [
       "'TARDEO+CIRCLE+PT,+MUMBAI,+MAHARASHTRA,+400034'"
      ]
     },
     "execution_count": 83,
     "metadata": {},
     "output_type": "execute_result"
    }
   ],
   "source": [
    "st"
   ]
  },
  {
   "cell_type": "code",
   "execution_count": null,
   "metadata": {},
   "outputs": [],
   "source": []
  }
 ],
 "metadata": {
  "kernelspec": {
   "display_name": "Python 3",
   "language": "python",
   "name": "python3"
  },
  "language_info": {
   "codemirror_mode": {
    "name": "ipython",
    "version": 3
   },
   "file_extension": ".py",
   "mimetype": "text/x-python",
   "name": "python",
   "nbconvert_exporter": "python",
   "pygments_lexer": "ipython3",
   "version": "3.7.0"
  }
 },
 "nbformat": 4,
 "nbformat_minor": 2
}
