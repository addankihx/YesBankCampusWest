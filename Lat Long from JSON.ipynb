{
 "cells": [
  {
   "cell_type": "code",
   "execution_count": 44,
   "metadata": {},
   "outputs": [],
   "source": [
    "import os \n",
    "import glob\n",
    "import json\n",
    "from tqdm import tqdm\n",
    "import pandas as pd"
   ]
  },
  {
   "cell_type": "code",
   "execution_count": 46,
   "metadata": {},
   "outputs": [],
   "source": [
    "paths = glob.glob(\"JSON_CURRENT/*.json\")"
   ]
  },
  {
   "cell_type": "code",
   "execution_count": 20,
   "metadata": {},
   "outputs": [],
   "source": [
    "json1_file = open('JSON_CURRENT/6394.json')\n",
    "json1_str = json1_file.read()\n",
    "json1_data = json.loads(json1_str)"
   ]
  },
  {
   "cell_type": "code",
   "execution_count": 22,
   "metadata": {},
   "outputs": [
    {
     "data": {
      "text/plain": [
       "{'results': [], 'status': 'ZERO_RESULTS'}"
      ]
     },
     "execution_count": 22,
     "metadata": {},
     "output_type": "execute_result"
    }
   ],
   "source": [
    "json1_data['status']"
   ]
  },
  {
   "cell_type": "code",
   "execution_count": 47,
   "metadata": {},
   "outputs": [
    {
     "name": "stderr",
     "output_type": "stream",
     "text": [
      "100%|██████████| 7999/7999 [00:00<00:00, 19627.95it/s]\n"
     ]
    }
   ],
   "source": [
    "lat_per = []\n",
    "lng_per = []\n",
    "serial_per = []\n",
    "for path in tqdm(paths):\n",
    "    json1_file = open(path)\n",
    "    json1_str = json1_file.read()\n",
    "    json1_data = json.loads(json1_str)\n",
    "    if json1_data['status'] == 'OVER_QUERY_LIMIT':\n",
    "        continue\n",
    "    if json1_data['status'] != 'ZERO_RESULTS':\n",
    "        lat_per.append(json1_data['results'][0]['geometry']['location']['lat'])\n",
    "        lng_per.append(json1_data['results'][0]['geometry']['location']['lng'])\n",
    "        serial_per.append(path.split('/')[1])\n",
    "    json1_file.close()\n",
    "    #break"
   ]
  },
  {
   "cell_type": "code",
   "execution_count": 48,
   "metadata": {},
   "outputs": [
    {
     "name": "stdout",
     "output_type": "stream",
     "text": [
      "7981 7981 7981\n"
     ]
    }
   ],
   "source": [
    "print(len(serial_per),len(lng_per),len(lat_per))"
   ]
  },
  {
   "cell_type": "code",
   "execution_count": 49,
   "metadata": {},
   "outputs": [],
   "source": [
    "data = {'serial': serial_per, 'latitude': lat_per, 'longitude':lng_per}\n",
    "df = pd.DataFrame(data, index=None)\n",
    "df.to_csv('Current_latlng_7981.csv', index=False)"
   ]
  },
  {
   "cell_type": "code",
   "execution_count": 28,
   "metadata": {},
   "outputs": [
    {
     "data": {
      "text/plain": [
       "[103.6333774]"
      ]
     },
     "execution_count": 28,
     "metadata": {},
     "output_type": "execute_result"
    }
   ],
   "source": [
    "lng"
   ]
  },
  {
   "cell_type": "code",
   "execution_count": null,
   "metadata": {},
   "outputs": [],
   "source": []
  }
 ],
 "metadata": {
  "kernelspec": {
   "display_name": "Python 3",
   "language": "python",
   "name": "python3"
  },
  "language_info": {
   "codemirror_mode": {
    "name": "ipython",
    "version": 3
   },
   "file_extension": ".py",
   "mimetype": "text/x-python",
   "name": "python",
   "nbconvert_exporter": "python",
   "pygments_lexer": "ipython3",
   "version": "3.6.8"
  }
 },
 "nbformat": 4,
 "nbformat_minor": 2
}
